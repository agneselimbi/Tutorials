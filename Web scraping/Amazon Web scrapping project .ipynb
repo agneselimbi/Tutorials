{
 "cells": [
  {
   "cell_type": "markdown",
   "id": "77d2bdca",
   "metadata": {},
   "source": [
    "Goal creating a dataset using Amazon website \n",
    "Tools: BeautifulSoup + Requests "
   ]
  },
  {
   "cell_type": "code",
   "execution_count": 1,
   "id": "467780e6",
   "metadata": {},
   "outputs": [],
   "source": [
    "# Import libraries \n",
    "from bs4 import BeautifulSoup\n",
    "import requests \n",
    "import smtplib   # for sending emails to myself \n",
    "import time \n",
    "import datetime\n",
    "import pandas as pd"
   ]
  },
  {
   "cell_type": "code",
   "execution_count": 2,
   "id": "ac61a6ec",
   "metadata": {},
   "outputs": [
    {
     "ename": "AttributeError",
     "evalue": "'NoneType' object has no attribute 'get_text'",
     "output_type": "error",
     "traceback": [
      "\u001b[1;31m---------------------------------------------------------------------------\u001b[0m",
      "\u001b[1;31mAttributeError\u001b[0m                            Traceback (most recent call last)",
      "\u001b[1;32m<ipython-input-2-0e05cfbc98ec>\u001b[0m in \u001b[0;36m<module>\u001b[1;34m\u001b[0m\n\u001b[0;32m     10\u001b[0m \u001b[1;33m\u001b[0m\u001b[0m\n\u001b[0;32m     11\u001b[0m \u001b[1;33m\u001b[0m\u001b[0m\n\u001b[1;32m---> 12\u001b[1;33m \u001b[0mtitle\u001b[0m \u001b[1;33m=\u001b[0m \u001b[0msoup2\u001b[0m\u001b[1;33m.\u001b[0m\u001b[0mfind\u001b[0m\u001b[1;33m(\u001b[0m\u001b[0mid\u001b[0m \u001b[1;33m=\u001b[0m\u001b[1;34m'productTitle'\u001b[0m\u001b[1;33m)\u001b[0m\u001b[1;33m.\u001b[0m\u001b[0mget_text\u001b[0m\u001b[1;33m(\u001b[0m\u001b[1;33m)\u001b[0m\u001b[1;33m\u001b[0m\u001b[1;33m\u001b[0m\u001b[0m\n\u001b[0m\u001b[0;32m     13\u001b[0m \u001b[0mprice\u001b[0m \u001b[1;33m=\u001b[0m \u001b[0msoup2\u001b[0m\u001b[1;33m.\u001b[0m\u001b[0mfind\u001b[0m\u001b[1;33m(\u001b[0m\u001b[0mid\u001b[0m \u001b[1;33m=\u001b[0m\u001b[1;34m'priceblock_ourprice'\u001b[0m\u001b[1;33m)\u001b[0m\u001b[1;33m.\u001b[0m\u001b[0mget_text\u001b[0m\u001b[1;33m(\u001b[0m\u001b[1;33m)\u001b[0m\u001b[1;33m\u001b[0m\u001b[1;33m\u001b[0m\u001b[0m\n\u001b[0;32m     14\u001b[0m \u001b[0mprint\u001b[0m\u001b[1;33m(\u001b[0m\u001b[0mtitle\u001b[0m\u001b[1;33m)\u001b[0m\u001b[1;33m\u001b[0m\u001b[1;33m\u001b[0m\u001b[0m\n",
      "\u001b[1;31mAttributeError\u001b[0m: 'NoneType' object has no attribute 'get_text'"
     ]
    }
   ],
   "source": [
    "## Connecting to website\n",
    "url = \"https://www.amazon.com/dp/B08HV6V49V/ref=redir_mobile_desktop?_encoding=UTF8&aaxitk=e4a419ee0d1274d03721b3c2c4ce1151&hsa_cr_id=3645978490701&pd_rd_plhdr=t&pd_rd_r=ec02b23d-889e-4688-bf07-0fa1138aaf86&pd_rd_w=FXDNS&pd_rd_wg=EakyO&ref_=sbx_be_s_sparkle_lsi4d_asin_0_img\"\n",
    "# user-agent (found with the following link : https://httpbin.org/get)\n",
    "headers = {\"User-Agent\": \"Mozilla/5.0 (Windows NT 10.0; Win64; x64) AppleWebKit/537.36 (KHTML, like Gecko) Chrome/93.0.4577.82 Safari/537.36\"}\n",
    "page = requests.get(url, headers = headers)\n",
    "soup1 = BeautifulSoup(page.content,\"html.parser\" )  # page.content vs page.text\n",
    "#print(page.text)\n",
    "soup2 = BeautifulSoup(soup1.prettify(),\"html.parser\")\n",
    "#print(soup2)\n",
    "\n",
    "\n",
    "title = soup2.find(id ='productTitle').get_text()\n",
    "price = soup2.find(id ='priceblock_ourprice').get_text()\n",
    "print(title)\n",
    "print(price)\n",
    "\n",
    "## cleaning our price and title \n",
    "title = title.strip()\n",
    "price = price.strip()[1:]  # removes space at the beginning and the end of a string \n",
    "\n",
    "#including the date \n",
    "today = datetime.date.today()\n"
   ]
  },
  {
   "cell_type": "code",
   "execution_count": null,
   "id": "8d18d81e",
   "metadata": {},
   "outputs": [],
   "source": [
    "## Create CSV that will containt the data \n",
    "import csv\n",
    "headers = ['Product','Price','Date']\n",
    "data = [title,price,today]\n",
    "with open('AmazonWebScrapperDataSet.csv','w', newline='',encoding = 'utf-8') as f : \n",
    "    #newline ensures no new line is added when we input new data\n",
    "    writer = csv.writer(f)\n",
    "    writer.writerow(headers)\n",
    "    writer.writerow(data) "
   ]
  },
  {
   "cell_type": "code",
   "execution_count": null,
   "id": "fd6f7cb6",
   "metadata": {},
   "outputs": [],
   "source": [
    "#Appending data to the csv\n",
    "with open('AmazonWebScrapperDataSet.csv','a+', newline='',encoding = 'utf-8') as f : \n",
    "    #newline ensures no new line is added when we input new data\n",
    "    writer = csv.writer(f)\n",
    "    writer.writerow(data) "
   ]
  },
  {
   "cell_type": "code",
   "execution_count": null,
   "id": "9aebe12f",
   "metadata": {},
   "outputs": [],
   "source": [
    "def check_price():\n",
    "    url = \"https://www.amazon.com/dp/B08HV6V49V/ref=redir_mobile_desktop?_encoding=UTF8&aaxitk=e4a419ee0d1274d03721b3c2c4ce1151&hsa_cr_id=3645978490701&pd_rd_plhdr=t&pd_rd_r=ec02b23d-889e-4688-bf07-0fa1138aaf86&pd_rd_w=FXDNS&pd_rd_wg=EakyO&ref_=sbx_be_s_sparkle_lsi4d_asin_0_img\"\n",
    "    headers = {\"User-Agent\": \"Mozilla/5.0 (Windows NT 10.0; Win64; x64) AppleWebKit/537.36 (KHTML, like Gecko) Chrome/93.0.4577.82 Safari/537.36\"}\n",
    "    page = requests.get(url, headers = headers)\n",
    "    soup1 = BeautifulSoup(page.content,\"html.parser\" )  # page.content vs page.text\n",
    "    soup2 = BeautifulSoup(soup1.prettify(),\"html.parser\")\n",
    "    title = soup2.find(id ='productTitle').get_text()\n",
    "    price = soup2.find(id ='priceblock_ourprice').get_text()\n",
    "\n",
    "    ## cleaning our price and title \n",
    "    title = title.strip()\n",
    "    price = price.strip()[1:]  # removes space at the beginning and the end of a string \n",
    "\n",
    "    #including the date \n",
    "    today = datetime.date.today()\n",
    "    \n",
    "    # creating our dataset\n",
    "    headers = ['Product','Price','Date']\n",
    "    \n",
    "    with open('AmazonWebScrapperDataSet.csv','a+', newline='',encoding = 'utf-8') as f : \n",
    "        writer = csv.writer(f)\n",
    "        writer.writerow(data) "
   ]
  },
  {
   "cell_type": "code",
   "execution_count": null,
   "id": "470fe59e",
   "metadata": {},
   "outputs": [],
   "source": [
    "while(True):\n",
    "    check_price()\n",
    "    time.sleep(300)"
   ]
  },
  {
   "cell_type": "code",
   "execution_count": null,
   "id": "a56ff6a8",
   "metadata": {},
   "outputs": [],
   "source": [
    "## Open the created dataset\n",
    "df = pd.read_csv('AmazonWebScrapperDataSet.csv')\n",
    "print(df)"
   ]
  },
  {
   "cell_type": "code",
   "execution_count": null,
   "id": "1025be1a",
   "metadata": {},
   "outputs": [],
   "source": [
    "def send_mail():\n",
    "    server = smtplib.STP_SSL('SMTP.G')\n",
    "    server.ehlo()\n",
    "    server.login('nes.elimbi@gmail.com','xxxxxx')\n",
    "    subject='xx is below xx!. Now is the time to bus'\n",
    "    body='Buy xxx as soon as possible'\n",
    "    msg = f:Subject: {subject}\\n\\n{body}\n",
    "    server.sendmail('nes.elimbi@gmail.com',msg)\n",
    "    "
   ]
  }
 ],
 "metadata": {
  "kernelspec": {
   "display_name": "Python 3",
   "language": "python",
   "name": "python3"
  },
  "language_info": {
   "codemirror_mode": {
    "name": "ipython",
    "version": 3
   },
   "file_extension": ".py",
   "mimetype": "text/x-python",
   "name": "python",
   "nbconvert_exporter": "python",
   "pygments_lexer": "ipython3",
   "version": "3.8.8"
  }
 },
 "nbformat": 4,
 "nbformat_minor": 5
}
