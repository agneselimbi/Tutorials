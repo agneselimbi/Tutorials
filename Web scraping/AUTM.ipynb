{
 "cells": [
  {
   "cell_type": "code",
   "execution_count": 1,
   "id": "91dbf9a5-f84d-45ce-a9c5-26e3324bc9d7",
   "metadata": {},
   "outputs": [],
   "source": [
    "##pip install selenium"
   ]
  },
  {
   "cell_type": "code",
   "execution_count": 1,
   "id": "1181fdd7-4303-4a2e-aceb-a9be898cb3e5",
   "metadata": {},
   "outputs": [],
   "source": [
    "from selenium import webdriver \n",
    "from selenium.webdriver.chrome.service import Service\n",
    "from selenium.webdriver.common.keys import Keys\n",
    "from selenium.webdriver.common.by import By\n",
    "from selenium.webdriver.support.ui import WebDriverWait \n",
    "from selenium.webdriver.support import expected_conditions as EC\n",
    "\n",
    "import time\n",
    "import pandas as pd"
   ]
  },
  {
   "cell_type": "code",
   "execution_count": 2,
   "id": "a50f6d15-e687-473d-a1e7-884a8789cd70",
   "metadata": {},
   "outputs": [],
   "source": [
    "url = \"https://www.linkedin.com/jobs/search?keywords=Data%20Scientist&location=Toronto%2C%20Ontario%2C%20Canada&geoId=100025096&trk=public_jobs_jobs-search-bar_search-submit&redirect=false&position=1&pageNum=0\""
   ]
  },
  {
   "cell_type": "code",
   "execution_count": 3,
   "id": "f3b3482a-261c-45e2-9683-5696a237b3df",
   "metadata": {},
   "outputs": [],
   "source": [
    "## Create an instance of the chrome webdriver. this is to interact with the website and test my code\n",
    "s = Service ('C:\\Program Files (x86)\\chromedriver_win32\\chromedriver.exe')\n",
    "wd = webdriver.Chrome(service = s)\n",
    "wd.get(url)"
   ]
  },
  {
   "cell_type": "code",
   "execution_count": 4,
   "id": "9560c0f3-221d-49f0-bd25-47e7e833a779",
   "metadata": {},
   "outputs": [],
   "source": [
    "no_of_jobs = 100\n",
    "#int(wd.find_element_by_css_selector('h1>span').get_attribute('innerText'))"
   ]
  },
  {
   "cell_type": "code",
   "execution_count": 5,
   "id": "6e1a9009-a93b-47c8-85a4-88add7be2f36",
   "metadata": {},
   "outputs": [],
   "source": [
    "## Browse all the jobs in a page \n",
    "i = 2 \n",
    "while i<= int(no_of_jobs/25)+1:\n",
    "    wd.execute_script(\"window.scrollTo(0,document.body.scrollHeight);\")\n",
    "    i = i+1\n",
    "    try: \n",
    "        we.find_element_by_xpath('/html/body/main/div/section/button').click()\n",
    "        time.sleep(5)\n",
    "    except:\n",
    "        pass\n",
    "        time.sleep(5)"
   ]
  },
  {
   "cell_type": "code",
   "execution_count": 6,
   "id": "5c590c6c-fd41-43a8-8448-4b6ed70ba395",
   "metadata": {},
   "outputs": [
    {
     "name": "stderr",
     "output_type": "stream",
     "text": [
      "<ipython-input-6-e08206664fba>:2: DeprecationWarning: find_element_by_* commands are deprecated. Please use find_element() instead\n",
      "  job_lists = wd.find_element_by_class_name(\"jobs-search__results-list\")\n",
      "C:\\Users\\Agnes\\anaconda3\\lib\\site-packages\\selenium\\webdriver\\remote\\webelement.py:359: UserWarning: find_elements_by_* commands are deprecated. Please use find_elements() instead\n",
      "  warnings.warn(\"find_elements_by_* commands are deprecated. Please use find_elements() instead\")\n"
     ]
    }
   ],
   "source": [
    "## Find all the jobs \n",
    "job_lists = wd.find_element_by_class_name(\"jobs-search__results-list\")\n",
    "jobs =job_lists.find_elements_by_tag_name('li')\n",
    "#print(len(jobs))"
   ]
  },
  {
   "cell_type": "code",
   "execution_count": 40,
   "id": "b0f70a81-1865-4f5c-9965-94e242029207",
   "metadata": {},
   "outputs": [
    {
     "name": "stderr",
     "output_type": "stream",
     "text": [
      "C:\\Users\\Agnes\\anaconda3\\lib\\site-packages\\selenium\\webdriver\\remote\\webelement.py:484: UserWarning: find_element_by_* commands are deprecated. Please use find_element() instead\n",
      "  warnings.warn(\"find_element_by_* commands are deprecated. Please use find_element() instead\")\n"
     ]
    }
   ],
   "source": [
    "## Load jobs into a Dataframe\n",
    "job_id = []\n",
    "job_title = []\n",
    "company_name = []\n",
    "location = []\n",
    "date = []\n",
    "job_link = []\n",
    "\n",
    "for job in jobs[0:5]:\n",
    "    try:\n",
    "        job_id0 = job.find_element_by_css_selector('li>div').get_attribute('data-entity-urn')\n",
    "        job_id.append(job_id0)\n",
    "    except:\n",
    "        job_id.append(\"\")\n",
    "    \n",
    "    title = job.find_element_by_css_selector('h3')\\\n",
    "                .get_attribute('innerText')\n",
    "    job_title.append(title)\n",
    " \n",
    "    company = job.find_element_by_css_selector('h4')\\\n",
    "                .get_attribute('innerText')\n",
    "    company_name.append(company)\n",
    "\n",
    "    loc = job.find_element_by_css_selector(\"span.job-search-card__location\").get_attribute('innerText')\n",
    "    location.append(loc)\n",
    "   \n",
    "    \n",
    "    date0 = job.find_element_by_css_selector('div>div>time').get_attribute('datetime')\n",
    "    date.append(date0)\n",
    "  \n",
    "    \n",
    "    link = job.find_element_by_css_selector('a').get_attribute('href')\n",
    "    job_link.append(link)\n"
   ]
  },
  {
   "cell_type": "code",
   "execution_count": 43,
   "id": "555a6c0b-8d35-4b64-987f-61a0ddbea289",
   "metadata": {},
   "outputs": [
    {
     "name": "stdout",
     "output_type": "stream",
     "text": [
      "Data Scientist\n",
      "Data Scientist - Summer Internship\n",
      "Data Scientist, NMR\n",
      "Data Management Scientist (REMOTE)\n",
      "Senior Data Scientist\n"
     ]
    }
   ],
   "source": [
    "## Detailed job description \n",
    "jd = []\n",
    "seniority = []\n",
    "emp_type=[]\n",
    "job_func = []\n",
    "industries = []\n",
    "company_names = []\n",
    "\n",
    "for item in range(5):\n",
    "#for item in range(len(jobs)):\n",
    "    #func = []\n",
    "    #industries0 = []\n",
    "    ## Clicking to view job details \n",
    "    try:\n",
    "        job_click_path = WebDriverWait(wd, 15)\\\n",
    "                                            .until(EC.element_to_be_clickable((By.XPATH,f'/html/body/div[1]/div/main/section[2]/ul/li[{item+1}]/div/a')))\\\n",
    "                                            .click()\n",
    "        time.sleep(5)\n",
    "        #f'/html/body/main/div/section[2]/ul/li[{item+1}]/img'\n",
    "        # job_click = job.find_element_by_xpath(job_click_path).click()\n",
    "\n",
    "    \n",
    "        jd_path = WebDriverWait(wd, 5)\\\n",
    "                                     .until(EC.element_to_be_clickable((By.XPATH,'/html/body/div[1]/div/section/div[2]/section/div/div[1]/div/a')))\\\n",
    "                                    .get_attribute('innerText')\n",
    "            #jd0 = job.find_element_by_xpath(jd_path).get_attribute('innerText')\n",
    "        #except:\n",
    "         #   jd_type_path = []\n",
    "        jd.append(jd_path)\n",
    "        print(jd_path)\n",
    "\n",
    "        company = WebDriverWait(wd, 5)\\\n",
    "                                    .until(EC.element_to_be_clickable((By.XPATH,'/html/body/div[2]/div/section/div[2]/section/div/div[1]/div/h4/div[1]/span[1]/a')))\\\n",
    "                                    .get_attribute('innerText')\n",
    "        print(company)\n",
    "        company_names.append(company)\n",
    "\n",
    "        seniority_path = WebDriverWait(wd, 5)\\\n",
    "                                            .until(EC.element_to_be_clickable((By.XPATH,'/html/body/div[1]/div/section/div[2]/div/section[1]/div/ul/li[1]/span')))\\\n",
    "                                            .get_attribute('innerText')\n",
    "\n",
    "        #seniority0 = job.find_element_by_xpath(seniority_path).get_attribute('innerText')\n",
    "        seniority.append(seniority_path)\n",
    "        print(seniority_path)\n",
    "\n",
    "        #try:\n",
    "        emp_type_path = WebDriverWait(wd, 5)\\\n",
    "                                                .until(EC.element_to_be_clickable((By.XPATH,'/html/body/div[1]/div/section/div[2]/div/section[1]/div/ul/li[2]/span')))\\\n",
    "                                                .get_attribute('innerText')\n",
    "        #except:\n",
    "            #emp_type_path = []\n",
    "        #emp = job.find_element_by_xpath(emp_type_path).get_attribute('innerText')\n",
    "        emp_type.append(emp_type_path)\n",
    "        print(emp_type_path)\n",
    "\n",
    "        job_func_path = '/html/body/div[1]/div/section/div[2]/div/section[1]/div/ul/li[3]/span'   \n",
    "        #try:\n",
    "        job_func_elements = WebDriverWait(wd, 5)\\\n",
    "                                                     .until(EC.element_to_be_clickable((By.XPATH,job_func_path)))\\\n",
    "                                                     .get_attribute('innerText')\n",
    "        #except:\n",
    "            #job_func_elements = []\n",
    "                #for elt in job_func_elements:\n",
    "                #func.append(elt.get_attribute('innerText'))\n",
    "            #job_func_final = ', '.join(func)\n",
    "        job_func.append(job_func_elements)\n",
    "        print(job_func_elements)\n",
    "\n",
    "        industries_path = '/html/body/div[1]/div/section/div[2]/div/section[1]/div/ul/li[4]/span'\n",
    "        #try:\n",
    "        industries_elements =  WebDriverWait(wd, 5)\\\n",
    "                                                .until(EC.element_to_be_clickable((By.XPATH,industries_path)))\\\n",
    "                                                .get_attribute('innerText')\n",
    "        #except:\n",
    "         #   industries_elements = []\n",
    "           # for elt in industries_elements:\n",
    "            #    industries0.append(elt.get_attribute('innerText'))\n",
    "            #industries_final = ', '.join(industries0)\n",
    "        industries.append(industries_elements)\n",
    "        print(industries_elements)\n",
    "    \n",
    "    except:  \n",
    "        company_names.append(\"\")\n",
    "        seniority.append(\"\")\n",
    "        emp_type.append(\"\")\n",
    "        job_func.append(\"\")\n",
    "        industries.append(\"\")\n",
    "        pass"
   ]
  },
  {
   "cell_type": "code",
   "execution_count": 44,
   "id": "4ffc7e9b-e6cc-4ca4-bc20-76181b9ecb89",
   "metadata": {},
   "outputs": [
    {
     "data": {
      "text/html": [
       "<div>\n",
       "<style scoped>\n",
       "    .dataframe tbody tr th:only-of-type {\n",
       "        vertical-align: middle;\n",
       "    }\n",
       "\n",
       "    .dataframe tbody tr th {\n",
       "        vertical-align: top;\n",
       "    }\n",
       "\n",
       "    .dataframe thead th {\n",
       "        text-align: right;\n",
       "    }\n",
       "</style>\n",
       "<table border=\"1\" class=\"dataframe\">\n",
       "  <thead>\n",
       "    <tr style=\"text-align: right;\">\n",
       "      <th></th>\n",
       "      <th>ID</th>\n",
       "      <th>Date</th>\n",
       "      <th>Company</th>\n",
       "      <th>Location</th>\n",
       "      <th>Description</th>\n",
       "      <th>Level</th>\n",
       "      <th>Type</th>\n",
       "      <th>Function</th>\n",
       "      <th>Industry</th>\n",
       "      <th>Link</th>\n",
       "    </tr>\n",
       "  </thead>\n",
       "  <tbody>\n",
       "    <tr>\n",
       "      <th>0</th>\n",
       "      <td>urn:li:jobPosting:2921480565</td>\n",
       "      <td>2022-02-15</td>\n",
       "      <td>nugget.ai</td>\n",
       "      <td>Toronto, Ontario, Canada</td>\n",
       "      <td>Data Scientist</td>\n",
       "      <td></td>\n",
       "      <td></td>\n",
       "      <td></td>\n",
       "      <td></td>\n",
       "      <td>https://ca.linkedin.com/jobs/view/data-scienti...</td>\n",
       "    </tr>\n",
       "    <tr>\n",
       "      <th>1</th>\n",
       "      <td>urn:li:jobPosting:2801677996</td>\n",
       "      <td>2021-10-26</td>\n",
       "      <td>Cerebras Systems</td>\n",
       "      <td>Toronto, Ontario, Canada</td>\n",
       "      <td>Data Scientist - Summer Internship</td>\n",
       "      <td></td>\n",
       "      <td></td>\n",
       "      <td></td>\n",
       "      <td></td>\n",
       "      <td>https://ca.linkedin.com/jobs/view/data-scienti...</td>\n",
       "    </tr>\n",
       "    <tr>\n",
       "      <th>2</th>\n",
       "      <td>urn:li:jobPosting:2870743355</td>\n",
       "      <td>2021-12-17</td>\n",
       "      <td>Synex Medical</td>\n",
       "      <td>Toronto, Ontario, Canada</td>\n",
       "      <td>Data Scientist, NMR</td>\n",
       "      <td></td>\n",
       "      <td></td>\n",
       "      <td></td>\n",
       "      <td></td>\n",
       "      <td>https://ca.linkedin.com/jobs/view/data-scienti...</td>\n",
       "    </tr>\n",
       "    <tr>\n",
       "      <th>3</th>\n",
       "      <td>urn:li:jobPosting:2920951022</td>\n",
       "      <td>2022-02-16</td>\n",
       "      <td>JLL Technologies</td>\n",
       "      <td>Toronto, Ontario, Canada</td>\n",
       "      <td>Data Management Scientist (REMOTE)</td>\n",
       "      <td></td>\n",
       "      <td></td>\n",
       "      <td></td>\n",
       "      <td></td>\n",
       "      <td>https://ca.linkedin.com/jobs/view/data-managem...</td>\n",
       "    </tr>\n",
       "    <tr>\n",
       "      <th>4</th>\n",
       "      <td>urn:li:jobPosting:2916796915</td>\n",
       "      <td>2022-02-14</td>\n",
       "      <td>RBC</td>\n",
       "      <td>Toronto, Ontario, Canada</td>\n",
       "      <td>Senior Data Scientist</td>\n",
       "      <td></td>\n",
       "      <td></td>\n",
       "      <td></td>\n",
       "      <td></td>\n",
       "      <td>https://ca.linkedin.com/jobs/view/senior-data-...</td>\n",
       "    </tr>\n",
       "  </tbody>\n",
       "</table>\n",
       "</div>"
      ],
      "text/plain": [
       "                             ID        Date           Company  \\\n",
       "0  urn:li:jobPosting:2921480565  2022-02-15         nugget.ai   \n",
       "1  urn:li:jobPosting:2801677996  2021-10-26  Cerebras Systems   \n",
       "2  urn:li:jobPosting:2870743355  2021-12-17     Synex Medical   \n",
       "3  urn:li:jobPosting:2920951022  2022-02-16  JLL Technologies   \n",
       "4  urn:li:jobPosting:2916796915  2022-02-14               RBC   \n",
       "\n",
       "                   Location                         Description Level Type  \\\n",
       "0  Toronto, Ontario, Canada                      Data Scientist              \n",
       "1  Toronto, Ontario, Canada  Data Scientist - Summer Internship              \n",
       "2  Toronto, Ontario, Canada                 Data Scientist, NMR              \n",
       "3  Toronto, Ontario, Canada  Data Management Scientist (REMOTE)              \n",
       "4  Toronto, Ontario, Canada               Senior Data Scientist              \n",
       "\n",
       "  Function Industry                                               Link  \n",
       "0                    https://ca.linkedin.com/jobs/view/data-scienti...  \n",
       "1                    https://ca.linkedin.com/jobs/view/data-scienti...  \n",
       "2                    https://ca.linkedin.com/jobs/view/data-scienti...  \n",
       "3                    https://ca.linkedin.com/jobs/view/data-managem...  \n",
       "4                    https://ca.linkedin.com/jobs/view/senior-data-...  "
      ]
     },
     "execution_count": 44,
     "metadata": {},
     "output_type": "execute_result"
    }
   ],
   "source": [
    "## Load in a Data Frame\n",
    "job_data = pd.DataFrame({ 'ID' : job_id,\n",
    "                         'Date': date, \n",
    "                         'Company': company_name,\n",
    "                         'Location': location,\n",
    "                         'Description': jd,\n",
    "                         'Level': seniority,\n",
    "                         'Type': emp_type,\n",
    "                         'Function': job_func,\n",
    "                         'Industry': industries,\n",
    "                         'Link': job_link    \n",
    "})\n",
    "job_data\n",
    "# Cleaning description column \n",
    "#job_data['Description '] = job_data['Description'].str.replace('\\n',' ')\n",
    "\n",
    "#job_data.to_excel('LinkedInd Job Data Scientist.xlsx', index = False)"
   ]
  },
  {
   "cell_type": "code",
   "execution_count": 33,
   "id": "de1e7b89-3745-4bea-912a-7dd1db9b6f21",
   "metadata": {},
   "outputs": [
    {
     "name": "stdout",
     "output_type": "stream",
     "text": [
      "Accounting\n"
     ]
    }
   ],
   "source": [
    "industries_path = '/html/body/div[1]/div/section/div[2]/div/section[1]/div/ul/li[4]/span'\n",
    "industries_elements =  WebDriverWait(wd, 5)\\\n",
    "                                                .until(EC.element_to_be_clickable((By.XPATH,industries_path)))\\\n",
    "                                                .get_attribute('innerText')\n",
    "print(industries_elements)"
   ]
  },
  {
   "cell_type": "code",
   "execution_count": 18,
   "id": "2f41f6c4-ac53-499a-a7c0-bc779e16b49e",
   "metadata": {},
   "outputs": [
    {
     "ename": "NameError",
     "evalue": "name 'industries_path' is not defined",
     "output_type": "error",
     "traceback": [
      "\u001b[1;31m---------------------------------------------------------------------------\u001b[0m",
      "\u001b[1;31mNameError\u001b[0m                                 Traceback (most recent call last)",
      "\u001b[1;32m<ipython-input-18-3ed04a9f3a50>\u001b[0m in \u001b[0;36m<module>\u001b[1;34m\u001b[0m\n\u001b[1;32m----> 1\u001b[1;33m \u001b[0mindustries_elements\u001b[0m \u001b[1;33m=\u001b[0m  \u001b[0mWebDriverWait\u001b[0m\u001b[1;33m(\u001b[0m\u001b[0mwd\u001b[0m\u001b[1;33m,\u001b[0m \u001b[1;36m10\u001b[0m\u001b[1;33m)\u001b[0m\u001b[1;33m.\u001b[0m\u001b[0muntil\u001b[0m\u001b[1;33m(\u001b[0m\u001b[0mEC\u001b[0m\u001b[1;33m.\u001b[0m\u001b[0melement_to_be_clickable\u001b[0m\u001b[1;33m(\u001b[0m\u001b[1;33m(\u001b[0m\u001b[0mBy\u001b[0m\u001b[1;33m.\u001b[0m\u001b[0mXPATH\u001b[0m\u001b[1;33m,\u001b[0m\u001b[0mindustries_path\u001b[0m\u001b[1;33m)\u001b[0m\u001b[1;33m)\u001b[0m\u001b[1;33m)\u001b[0m\u001b[1;33m.\u001b[0m\u001b[0mget_attribute\u001b[0m\u001b[1;33m(\u001b[0m\u001b[1;34m'innerText'\u001b[0m\u001b[1;33m)\u001b[0m\u001b[1;33m\u001b[0m\u001b[1;33m\u001b[0m\u001b[0m\n\u001b[0m",
      "\u001b[1;31mNameError\u001b[0m: name 'industries_path' is not defined"
     ]
    }
   ],
   "source": [
    "\n",
    "industries_elements =  WebDriverWait(wd, 10).until(EC.element_to_be_clickable((By.XPATH,industries_path))).get_attribute('innerText')\n"
   ]
  },
  {
   "cell_type": "code",
   "execution_count": 20,
   "id": "07d630e6-bb06-4a73-b910-c65ae2766dc1",
   "metadata": {},
   "outputs": [
    {
     "name": "stdout",
     "output_type": "stream",
     "text": [
      "IT Services and IT Consulting and Software Development\n"
     ]
    }
   ],
   "source": [
    "company =  WebDriverWait(wd, 1)\\\n",
    "                                                .until(EC.element_to_be_clickable((By.XPATH,'/html/body/div[1]/div/section/div[2]/div/section[1]/div/ul/li[4]/span')))\\\n",
    "                                                .get_attribute('innerText')\n",
    "print(company)"
   ]
  },
  {
   "cell_type": "code",
   "execution_count": 34,
   "id": "2f021f6e-571e-4ec1-88ed-cc65cff5ccf1",
   "metadata": {},
   "outputs": [
    {
     "ename": "TimeoutException",
     "evalue": "Message: \nStacktrace:\nBacktrace:\n\tOrdinal0 [0x00927AC3+2587331]\n\tOrdinal0 [0x008BADD1+2141649]\n\tOrdinal0 [0x007B3BB8+1063864]\n\tOrdinal0 [0x007E01CE+1245646]\n\tOrdinal0 [0x007E03CB+1246155]\n\tOrdinal0 [0x0080A612+1418770]\n\tOrdinal0 [0x007F86D4+1345236]\n\tOrdinal0 [0x00808A0A+1411594]\n\tOrdinal0 [0x007F84A6+1344678]\n\tOrdinal0 [0x007D53F6+1201142]\n\tOrdinal0 [0x007D62E6+1204966]\n\tGetHandleVerifier [0x00ACDF22+1680738]\n\tGetHandleVerifier [0x00B80DBC+2413564]\n\tGetHandleVerifier [0x009BD151+563089]\n\tGetHandleVerifier [0x009BBF13+558419]\n\tOrdinal0 [0x008C081E+2164766]\n\tOrdinal0 [0x008C5508+2184456]\n\tOrdinal0 [0x008C5650+2184784]\n\tOrdinal0 [0x008CF5BC+2225596]\n\tBaseThreadInitThunk [0x76166739+25]\n\tRtlGetFullPathName_UEx [0x77448E7F+1215]\n\tRtlGetFullPathName_UEx [0x77448E4D+1165]\n",
     "output_type": "error",
     "traceback": [
      "\u001b[1;31m---------------------------------------------------------------------------\u001b[0m",
      "\u001b[1;31mTimeoutException\u001b[0m                          Traceback (most recent call last)",
      "\u001b[1;32m<ipython-input-34-a14cbc082f59>\u001b[0m in \u001b[0;36m<module>\u001b[1;34m\u001b[0m\n\u001b[1;32m----> 1\u001b[1;33m \u001b[0mjd_path\u001b[0m \u001b[1;33m=\u001b[0m \u001b[0mWebDriverWait\u001b[0m\u001b[1;33m(\u001b[0m\u001b[0mwd\u001b[0m\u001b[1;33m,\u001b[0m \u001b[1;36m5\u001b[0m\u001b[1;33m)\u001b[0m\u001b[0;31m\\\u001b[0m\u001b[1;33m\u001b[0m\u001b[1;33m\u001b[0m\u001b[0m\n\u001b[0m\u001b[0;32m      2\u001b[0m                                                 \u001b[1;33m.\u001b[0m\u001b[0muntil\u001b[0m\u001b[1;33m(\u001b[0m\u001b[0mEC\u001b[0m\u001b[1;33m.\u001b[0m\u001b[0melement_to_be_clickable\u001b[0m\u001b[1;33m(\u001b[0m\u001b[1;33m(\u001b[0m\u001b[0mBy\u001b[0m\u001b[1;33m.\u001b[0m\u001b[0mXPATH\u001b[0m\u001b[1;33m,\u001b[0m\u001b[1;34m'/html/body/div[1]/div/section/div[2]/section/div/div[1]/div/a'\u001b[0m\u001b[1;33m)\u001b[0m\u001b[1;33m)\u001b[0m\u001b[1;33m)\u001b[0m\u001b[0;31m\\\u001b[0m\u001b[1;33m\u001b[0m\u001b[1;33m\u001b[0m\u001b[0m\n\u001b[0;32m      3\u001b[0m                                                 \u001b[1;33m.\u001b[0m\u001b[0mget_attribute\u001b[0m\u001b[1;33m(\u001b[0m\u001b[1;34m'innerText'\u001b[0m\u001b[1;33m)\u001b[0m\u001b[1;33m\u001b[0m\u001b[1;33m\u001b[0m\u001b[0m\n",
      "\u001b[1;32m~\\anaconda3\\lib\\site-packages\\selenium\\webdriver\\support\\wait.py\u001b[0m in \u001b[0;36muntil\u001b[1;34m(self, method, message)\u001b[0m\n\u001b[0;32m     87\u001b[0m             \u001b[1;32mif\u001b[0m \u001b[0mtime\u001b[0m\u001b[1;33m.\u001b[0m\u001b[0mtime\u001b[0m\u001b[1;33m(\u001b[0m\u001b[1;33m)\u001b[0m \u001b[1;33m>\u001b[0m \u001b[0mend_time\u001b[0m\u001b[1;33m:\u001b[0m\u001b[1;33m\u001b[0m\u001b[1;33m\u001b[0m\u001b[0m\n\u001b[0;32m     88\u001b[0m                 \u001b[1;32mbreak\u001b[0m\u001b[1;33m\u001b[0m\u001b[1;33m\u001b[0m\u001b[0m\n\u001b[1;32m---> 89\u001b[1;33m         \u001b[1;32mraise\u001b[0m \u001b[0mTimeoutException\u001b[0m\u001b[1;33m(\u001b[0m\u001b[0mmessage\u001b[0m\u001b[1;33m,\u001b[0m \u001b[0mscreen\u001b[0m\u001b[1;33m,\u001b[0m \u001b[0mstacktrace\u001b[0m\u001b[1;33m)\u001b[0m\u001b[1;33m\u001b[0m\u001b[1;33m\u001b[0m\u001b[0m\n\u001b[0m\u001b[0;32m     90\u001b[0m \u001b[1;33m\u001b[0m\u001b[0m\n\u001b[0;32m     91\u001b[0m     \u001b[1;32mdef\u001b[0m \u001b[0muntil_not\u001b[0m\u001b[1;33m(\u001b[0m\u001b[0mself\u001b[0m\u001b[1;33m,\u001b[0m \u001b[0mmethod\u001b[0m\u001b[1;33m,\u001b[0m \u001b[0mmessage\u001b[0m\u001b[1;33m=\u001b[0m\u001b[1;34m''\u001b[0m\u001b[1;33m)\u001b[0m\u001b[1;33m:\u001b[0m\u001b[1;33m\u001b[0m\u001b[1;33m\u001b[0m\u001b[0m\n",
      "\u001b[1;31mTimeoutException\u001b[0m: Message: \nStacktrace:\nBacktrace:\n\tOrdinal0 [0x00927AC3+2587331]\n\tOrdinal0 [0x008BADD1+2141649]\n\tOrdinal0 [0x007B3BB8+1063864]\n\tOrdinal0 [0x007E01CE+1245646]\n\tOrdinal0 [0x007E03CB+1246155]\n\tOrdinal0 [0x0080A612+1418770]\n\tOrdinal0 [0x007F86D4+1345236]\n\tOrdinal0 [0x00808A0A+1411594]\n\tOrdinal0 [0x007F84A6+1344678]\n\tOrdinal0 [0x007D53F6+1201142]\n\tOrdinal0 [0x007D62E6+1204966]\n\tGetHandleVerifier [0x00ACDF22+1680738]\n\tGetHandleVerifier [0x00B80DBC+2413564]\n\tGetHandleVerifier [0x009BD151+563089]\n\tGetHandleVerifier [0x009BBF13+558419]\n\tOrdinal0 [0x008C081E+2164766]\n\tOrdinal0 [0x008C5508+2184456]\n\tOrdinal0 [0x008C5650+2184784]\n\tOrdinal0 [0x008CF5BC+2225596]\n\tBaseThreadInitThunk [0x76166739+25]\n\tRtlGetFullPathName_UEx [0x77448E7F+1215]\n\tRtlGetFullPathName_UEx [0x77448E4D+1165]\n"
     ]
    }
   ],
   "source": [
    "jd_path = WebDriverWait(wd, 5)\\\n",
    "                                                .until(EC.element_to_be_clickable((By.XPATH,'/html/body/div[1]/div/section/div[2]/section/div/div[1]/div/a')))\\\n",
    "                                                .get_attribute('innerText')"
   ]
  },
  {
   "cell_type": "code",
   "execution_count": null,
   "id": "194e683d-e956-4ce9-9b0a-6072bd03c061",
   "metadata": {},
   "outputs": [],
   "source": []
  }
 ],
 "metadata": {
  "kernelspec": {
   "display_name": "Python 3",
   "language": "python",
   "name": "python3"
  },
  "language_info": {
   "codemirror_mode": {
    "name": "ipython",
    "version": 3
   },
   "file_extension": ".py",
   "mimetype": "text/x-python",
   "name": "python",
   "nbconvert_exporter": "python",
   "pygments_lexer": "ipython3",
   "version": "3.8.8"
  }
 },
 "nbformat": 4,
 "nbformat_minor": 5
}
