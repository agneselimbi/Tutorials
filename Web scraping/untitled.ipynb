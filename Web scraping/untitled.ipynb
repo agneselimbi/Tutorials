{
 "cells": [
  {
   "cell_type": "code",
   "execution_count": 1,
   "id": "ef9cbde3",
   "metadata": {},
   "outputs": [],
   "source": [
    "## pip install lxml"
   ]
  },
  {
   "cell_type": "code",
   "execution_count": 4,
   "id": "82b641b6",
   "metadata": {},
   "outputs": [],
   "source": [
    "from bs4 import BeautifulSoup\n",
    "import time \n",
    "import requests"
   ]
  },
  {
   "cell_type": "code",
   "execution_count": 3,
   "id": "ea6aeacb",
   "metadata": {},
   "outputs": [
    {
     "name": "stdout",
     "output_type": "stream",
     "text": [
      "Python for beginners\n",
      "Python Web Development\n",
      "Python Machine Learning\n"
     ]
    }
   ],
   "source": [
    "## Simple example with local HTML  code\n",
    "\n",
    "with open('home.html','r') as html_file:\n",
    "    content = html_file.read() # read the content of the html file\n",
    "    soup = BeautifulSoup(content,'lxml')\n",
    "    # Suppose we want to find the courses titles \n",
    "     ##  tags = soup.find('h5')   # returns only the first element that satisfies a condition\n",
    "    courses_html_tags = soup.find_all('h5')\n",
    "   # print(courses_html_tags)\n",
    "    for course in courses_html_tags:\n",
    "        print(course.text)   # to get only the text information \n"
   ]
  },
  {
   "cell_type": "code",
   "execution_count": 4,
   "id": "5e985a29",
   "metadata": {},
   "outputs": [
    {
     "name": "stdout",
     "output_type": "stream",
     "text": [
      "Python for beginners costs: 20$\n",
      "Python Web Development costs: 50$\n",
      "Python Machine Learning costs: 100$\n"
     ]
    }
   ],
   "source": [
    "## Find the price per course\n",
    "with open('home.html','r') as html_file:\n",
    "    content = html_file.read() # read the content of the html file\n",
    "    soup = BeautifulSoup(content,'lxml')\n",
    "    course_cards = soup.find_all('div', class_ = 'card')\n",
    "    for course in course_cards:\n",
    "        course_name = course.h5.text\n",
    "        course_price = course.a.text.split()[-1]\n",
    "        print(f'{course_name} costs: {course_price}')\n",
    " \n",
    "  #      if course.== 'Python for beginners'"
   ]
  },
  {
   "cell_type": "code",
   "execution_count": 5,
   "id": "57d1fedd",
   "metadata": {},
   "outputs": [
    {
     "name": "stdout",
     "output_type": "stream",
     "text": [
      "Company Name : Surya Informatics Solutions Pvt. Ltd.\n",
      "Required Skills : python  ,  web technologies  ,  linux  ,  mobile  ,  mysql  ,  angularjs  ,  javascript\n",
      "More Info: https://www.timesjobs.com/job-detail/python-surya-informatics-solutions-pvt-ltd-chennai-0-to-3-yrs-jobid-UVlLes58wutzpSvf__PLUS__uAgZw==&source=srp\n",
      "\n",
      "Company Name : Pure Tech Codex Private Limited\n",
      "Required Skills : rest  ,  python  ,  database  ,  django  ,  debugging  ,  mongodb\n",
      "More Info: https://www.timesjobs.com/job-detail/python-pure-tech-codex-private-limited-pune-2-to-3-yrs-jobid-OHwfF0d6EhNzpSvf__PLUS__uAgZw==&source=srp\n",
      "\n",
      "Company Name : Gemini Solutions\n",
      "Required Skills : python  ,  mobile  ,  svn  ,  nosql  ,  python scripting  ,  git  ,  api  ,  sql database\n",
      "More Info: https://www.timesjobs.com/job-detail/qa-python-python-sdet-gemini-solutions-gurgaon-4-to-7-yrs-jobid-eGMLzwOk2QlzpSvf__PLUS__uAgZw==&source=srp\n",
      "\n",
      "Company Name : Electrobrain modern technologies pvt ltd\r\n",
      "     (More Jobs)\n",
      "Required Skills : CSS  ,  HTML  ,  Java  ,  Sql  ,  c ++  ,  Oracle\n",
      "More Info: https://www.timesjobs.com/job-detail/python-developer-python-engineer-electrobrain-modern-technologies-pvt-ltd-bhagalpur-muzaffarpur-patna-2-to-5-yrs-jobid-fpIOTLCvzjxzpSvf__PLUS__uAgZw==&source=srp\n",
      "\n",
      "Company Name : Jump Trading\n",
      "Required Skills : python  ,  git  ,  unix\n",
      "More Info: https://www.timesjobs.com/job-detail/python-engineer-jump-trading-chicago-1-to-4-yrs-jobid-wVovxDkOVnBzpSvf__PLUS__uAgZw==&source=srp\n",
      "\n",
      "Company Name : LAKSH HUMAN RESOURCE\n",
      "Required Skills : rest  ,  python  ,  django  ,  git\n",
      "More Info: https://www.timesjobs.com/job-detail/python-developer-laksh-human-resource-mumbai-1-to-3-yrs-jobid-Bo79FYBR7__SLASH__5zpSvf__PLUS__uAgZw==&source=srp\n",
      "\n",
      "Company Name : SEVEN CONSULTANCY\n",
      "Required Skills : python  ,  mvc  ,  sql\n",
      "More Info: https://www.timesjobs.com/job-detail/python-developer-seven-consultancy-navi-mumbai-mumbai-4-to-7-yrs-jobid-PGeUDPey4RhzpSvf__PLUS__uAgZw==&source=srp\n",
      "\n",
      "Company Name : FresherMart\n",
      "Required Skills : python  ,  django  ,   Django Framework\n",
      "More Info: https://www.timesjobs.com/job-detail/python-developer-freshermart-navi-mumbai-mumbai-0-to-1-yrs-jobid-PUYMPEa4NaFzpSvf__PLUS__uAgZw==&source=srp\n",
      "\n",
      "Company Name : Gibots\n",
      "Required Skills : python  ,   elements developed  ,   performance applications\n",
      "More Info: https://www.timesjobs.com/job-detail/python-developer-gibots-pune-1-to-2-yrs-jobid-3x1kaokioYFzpSvf__PLUS__uAgZw==&source=srp\n",
      "\n",
      "Company Name : Anantha Cyber Tech Pvt Limited\n",
      "Required Skills : python  ,  c    ,  c  ,  information technology\n",
      "More Info: https://www.timesjobs.com/job-detail/python-developer-anantha-cyber-tech-pvt-limited-hyderabad-secunderabad-3-to-6-yrs-jobid-QF9wZ4AGuzlzpSvf__PLUS__uAgZw==&source=srp\n",
      "\n"
     ]
    }
   ],
   "source": [
    "## More complicated \n",
    "import requests  \n",
    "url  = 'https://www.timesjobs.com/candidate/job-search.html?searchType=personalizedSearch&from=submit&txtKeywords=python&txtLocation='\n",
    "html_text = requests.get(url).text\n",
    "soup = BeautifulSoup(html_text,'lxml')\n",
    "jobs = soup.find_all('li',class_ =\"clearfix job-bx wht-shd-bx\")\n",
    "for job in jobs:\n",
    "    published_date = job.find('span',class_='sim-posted').span.text\n",
    "    if 'few' in published_date:\n",
    "        company_name = job.find('h3',class_ = \"joblist-comp-name\").text.strip()\n",
    "        skills = job.find('span',\"srp-skills\").text.strip()\n",
    "        link = job.header.h2.a['href']\n",
    "\n",
    "       # print(published_date)\n",
    "        print(f\"Company Name : {company_name}\")\n",
    "        print(f'Required Skills : {skills}')\n",
    "        print(f'More Info: {link}')\n",
    "        print('')"
   ]
  },
  {
   "cell_type": "code",
   "execution_count": 6,
   "id": "5ca0e98e",
   "metadata": {},
   "outputs": [
    {
     "name": "stdout",
     "output_type": "stream",
     "text": [
      "Put some skills you are not familiar with\n",
      ">django\n",
      "Filering out django\n",
      "Company Name : Surya Informatics Solutions Pvt. Ltd.\n",
      "Required Skills : python  ,  web technologies  ,  linux  ,  mobile  ,  mysql  ,  angularjs  ,  javascript\n",
      "More Info: https://www.timesjobs.com/job-detail/python-surya-informatics-solutions-pvt-ltd-chennai-0-to-3-yrs-jobid-UVlLes58wutzpSvf__PLUS__uAgZw==&source=srp\n",
      "\n",
      "Company Name : Gemini Solutions\n",
      "Required Skills : python  ,  mobile  ,  svn  ,  nosql  ,  python scripting  ,  git  ,  api  ,  sql database\n",
      "More Info: https://www.timesjobs.com/job-detail/qa-python-python-sdet-gemini-solutions-gurgaon-4-to-7-yrs-jobid-eGMLzwOk2QlzpSvf__PLUS__uAgZw==&source=srp\n",
      "\n",
      "Company Name : Electrobrain modern technologies pvt ltd\n",
      "     (More Jobs)\n",
      "Required Skills : CSS  ,  HTML  ,  Java  ,  Sql  ,  c ++  ,  Oracle\n",
      "More Info: https://www.timesjobs.com/job-detail/python-developer-python-engineer-electrobrain-modern-technologies-pvt-ltd-bhagalpur-muzaffarpur-patna-2-to-5-yrs-jobid-fpIOTLCvzjxzpSvf__PLUS__uAgZw==&source=srp\n",
      "\n",
      "Company Name : Jump Trading\n",
      "Required Skills : python  ,  git  ,  unix\n",
      "More Info: https://www.timesjobs.com/job-detail/python-engineer-jump-trading-chicago-1-to-4-yrs-jobid-wVovxDkOVnBzpSvf__PLUS__uAgZw==&source=srp\n",
      "\n",
      "Company Name : SEVEN CONSULTANCY\n",
      "Required Skills : python  ,  mvc  ,  sql\n",
      "More Info: https://www.timesjobs.com/job-detail/python-developer-seven-consultancy-navi-mumbai-mumbai-4-to-7-yrs-jobid-PGeUDPey4RhzpSvf__PLUS__uAgZw==&source=srp\n",
      "\n",
      "Company Name : Gibots\n",
      "Required Skills : python  ,   elements developed  ,   performance applications\n",
      "More Info: https://www.timesjobs.com/job-detail/python-developer-gibots-pune-1-to-2-yrs-jobid-3x1kaokioYFzpSvf__PLUS__uAgZw==&source=srp\n",
      "\n",
      "Company Name : Anantha Cyber Tech Pvt Limited\n",
      "Required Skills : python  ,  c    ,  c  ,  information technology\n",
      "More Info: https://www.timesjobs.com/job-detail/python-developer-anantha-cyber-tech-pvt-limited-hyderabad-secunderabad-3-to-6-yrs-jobid-QF9wZ4AGuzlzpSvf__PLUS__uAgZw==&source=srp\n",
      "\n"
     ]
    }
   ],
   "source": [
    "## Adding some special functionalities\n",
    "import requests\n",
    "print('Put some skills you are not familiar with')\n",
    "unfamiliar_skill = input('>')\n",
    "print(f'Filering out {unfamiliar_skill}')\n",
    "url  = 'https://www.timesjobs.com/candidate/job-search.html?searchType=personalizedSearch&from=submit&txtKeywords=python&txtLocation='\n",
    "html_text = requests.get(url).text\n",
    "soup = BeautifulSoup(html_text,'lxml')\n",
    "jobs = soup.find_all('li',class_ =\"clearfix job-bx wht-shd-bx\")\n",
    "for job in jobs:\n",
    "    published_date = job.find('span',class_='sim-posted').span.text\n",
    "    if 'few' in published_date:\n",
    "        company_name = job.find('h3',class_ = \"joblist-comp-name\").text.strip()\n",
    "        skills = job.find('span',\"srp-skills\").text.strip()\n",
    "        link = job.header.h2.a['href']\n",
    "        if unfamiliar_skill not in skills:\n",
    "           # print(published_date)\n",
    "            print(f\"Company Name : {company_name}\")\n",
    "            print(f'Required Skills : {skills}')\n",
    "            print(f'More Info: {link}')\n",
    "            print('')"
   ]
  },
  {
   "cell_type": "code",
   "execution_count": 7,
   "id": "c19a0873",
   "metadata": {},
   "outputs": [],
   "source": [
    "## Next accept multiple input from user "
   ]
  },
  {
   "cell_type": "code",
   "execution_count": null,
   "id": "f4526322",
   "metadata": {},
   "outputs": [
    {
     "name": "stdout",
     "output_type": "stream",
     "text": [
      "Put some skills you are not familiar with\n",
      ">linux\n",
      "Filering out linux\n",
      "Waiting 10 minutes\n"
     ]
    }
   ],
   "source": [
    "## Putting everything together\n",
    "\n",
    "def collect_data():\n",
    "    print('Put some skills you are not familiar with')\n",
    "    unfamiliar_skill = input('>')\n",
    "    print(f'Filering out {unfamiliar_skill}')\n",
    "    url  = 'https://www.timesjobs.com/candidate/job-search.html?searchType=personalizedSearch&from=submit&txtKeywords=python&txtLocation='\n",
    "    html_text = requests.get(url).text\n",
    "    soup = BeautifulSoup(html_text,'lxml')\n",
    "    jobs = soup.find_all('li',class_ =\"clearfix job-bx wht-shd-bx\")\n",
    "    for index,job in enumerate(jobs):\n",
    "        published_date = job.find('span',class_='sim-posted').span.text\n",
    "        if 'few' in published_date:\n",
    "            company_name = job.find('h3',class_ = \"joblist-comp-name\").text.strip()\n",
    "            skills = job.find('span',\"srp-skills\").text.strip()\n",
    "            link = job.header.h2.a['href']\n",
    "            if unfamiliar_skill not in skills:\n",
    "                with open(f'posts/{index}.txt','w') as f:\n",
    "                    f.write (f\"Company Name : {company_name} \\n \")\n",
    "                    f.write(f'Required Skills : {skills} \\n')\n",
    "                    f.write(f'More Info: {link} \\n')\n",
    "                \n",
    "while True:\n",
    "    collect_data()\n",
    "    time_wait = 10\n",
    "    print(f'Waiting {time_wait} minutes')\n",
    "    time.sleep(time_wait*60)"
   ]
  },
  {
   "cell_type": "code",
   "execution_count": null,
   "id": "9b7e2510",
   "metadata": {},
   "outputs": [],
   "source": []
  }
 ],
 "metadata": {
  "kernelspec": {
   "display_name": "Python 3",
   "language": "python",
   "name": "python3"
  },
  "language_info": {
   "codemirror_mode": {
    "name": "ipython",
    "version": 3
   },
   "file_extension": ".py",
   "mimetype": "text/x-python",
   "name": "python",
   "nbconvert_exporter": "python",
   "pygments_lexer": "ipython3",
   "version": "3.8.8"
  }
 },
 "nbformat": 4,
 "nbformat_minor": 5
}
